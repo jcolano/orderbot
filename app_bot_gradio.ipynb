{
 "cells": [
  {
   "cell_type": "code",
   "execution_count": null,
   "metadata": {},
   "outputs": [],
   "source": [
    "import gradio as gr\n",
    "\n",
    "conversation_history = []\n",
    "\n",
    "def chatbot_function(user_input):\n",
    "    global conversation_history\n",
    "    # Your chatbot logic goes here\n",
    "    response = f\"Your chatbot's response to: {user_input}\"\n",
    "    \n",
    "    # Update conversation history\n",
    "    conversation_history.append({\"User\": user_input, \"Chatbot\": response})\n",
    "    conversation_text = \"\\n\".join([f\"{item['User']}:\\n{item['Chatbot']}\\n\" for item in conversation_history])\n",
    "\n",
    "    return conversation_text\n",
    "\n",
    "# Create the Gradio interface components\n",
    "inputs = gr.inputs.Textbox(lines=5, label=\"User Input\")\n",
    "outputs = gr.outputs.Textbox(label=\"Conversation History\")\n",
    "\n",
    "# Create the Gradio interface with custom layout\n",
    "iface = gr.Interface(\n",
    "    fn=chatbot_function,\n",
    "    inputs=inputs,\n",
    "    outputs=outputs,\n",
    "    layout=\"vertical\"\n",
    ")\n",
    "\n",
    "iface.launch()\n"
   ]
  },
  {
   "cell_type": "code",
   "execution_count": null,
   "metadata": {},
   "outputs": [],
   "source": []
  }
 ],
 "metadata": {
  "kernelspec": {
   "display_name": "Python 3",
   "language": "python",
   "name": "python3"
  },
  "language_info": {
   "codemirror_mode": {
    "name": "ipython",
    "version": 3
   },
   "file_extension": ".py",
   "mimetype": "text/x-python",
   "name": "python",
   "nbconvert_exporter": "python",
   "pygments_lexer": "ipython3",
   "version": "3.10.10"
  },
  "orig_nbformat": 4
 },
 "nbformat": 4,
 "nbformat_minor": 2
}
